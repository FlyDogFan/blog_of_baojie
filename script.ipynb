{
 "cells": [
  {
   "cell_type": "markdown",
   "metadata": {
    "collapsed": false
   },
   "source": [
    "# 整理语义噪声\n",
    "\n",
    "- 目前只是爬去标签为\"语义网\"的所有博客\n",
    "\n",
    "## 爬取内容\n",
    "\n",
    "- 标题\n",
    "- 时间\n",
    "- 分类\n",
    "- 正文\n",
    "\n",
    "## 思路\n",
    "\n",
    "- 提取每一篇博客的链接\n",
    "- 根据链接提取相应内容\n",
    "\n",
    "\n",
    "## References\n",
    "- [Beautiful Soup4](https://www.crummy.com/software/BeautifulSoup/bs4/doc/)\n",
    "\n",
    "## 意外\n",
    "- 中文版的BeautifulSoup, 兄弟节点, 文档有错误."
   ]
  },
  {
   "cell_type": "code",
   "execution_count": 1,
   "metadata": {
    "collapsed": true
   },
   "outputs": [],
   "source": [
    "# -*- coding: utf-8 -*-"
   ]
  },
  {
   "cell_type": "code",
   "execution_count": 121,
   "metadata": {
    "collapsed": true
   },
   "outputs": [],
   "source": [
    "import os\n",
    "import urllib2\n",
    "import requests\n",
    "import html2text\n",
    "from bs4 import BeautifulSoup"
   ]
  },
  {
   "cell_type": "code",
   "execution_count": 131,
   "metadata": {
    "collapsed": true
   },
   "outputs": [],
   "source": [
    "cate_url = u'http://baojie.org/blog/category/%e7%a7%91%e6%8a%80%e6%b0%91%e5%b7%a5/%e5%b7%a5%e7%a8%8b%e5%88%9b%e4%b8%9a/'"
   ]
  },
  {
   "cell_type": "code",
   "execution_count": 4,
   "metadata": {
    "collapsed": true
   },
   "outputs": [],
   "source": [
    "r = requests.get(cate_url)"
   ]
  },
  {
   "cell_type": "code",
   "execution_count": 5,
   "metadata": {
    "collapsed": false
   },
   "outputs": [],
   "source": [
    "def getBlogUrls(url):\n",
    "    r = requests.get(url)\n",
    "    html_doc = r.text\n",
    "    soup = BeautifulSoup(html_doc, 'html.parser')\n",
    "    div_main = soup.find('div', id=\"main\")\n",
    "    header_list = [header for header in div_main.find_all('h1')]\n",
    "    link_list = [link.get('href') for header in header_list for link in header.find_all('a')]\n",
    "    return link_list"
   ]
  },
  {
   "cell_type": "code",
   "execution_count": 19,
   "metadata": {
    "collapsed": true
   },
   "outputs": [],
   "source": [
    "def getCategories(footer):\n",
    "    cate_list = []\n",
    "    for a in footer.find_all(attrs={'rel': 'tag'}):\n",
    "        cate_list.append(a.text)\n",
    "    categories = ', '.join(cate_list)\n",
    "    return categories"
   ]
  },
  {
   "cell_type": "code",
   "execution_count": 106,
   "metadata": {
    "collapsed": false
   },
   "outputs": [],
   "source": [
    "def getContent(url):\n",
    "    r = requests.get(url)\n",
    "    html_doc = r.text\n",
    "    soup = BeautifulSoup(html_doc, 'html.parser')\n",
    "    div_main = soup.find('div', id=\"main\")\n",
    "    header = div_main.article.header\n",
    "    time = header.time.text\n",
    "    content = div_main.article.find(attrs={'class': 'entry-content post_content'})\n",
    "    for s in content('script'):\n",
    "        s.extract()\n",
    "    footer = div_main.article.footer\n",
    "    categories = getCategories(footer)\n",
    "    content = u'%s' % content\n",
    "    return header.h1.text, html2text.html2text(content), categories, time"
   ]
  },
  {
   "cell_type": "code",
   "execution_count": 107,
   "metadata": {
    "collapsed": true
   },
   "outputs": [],
   "source": [
    "def createUrls(url, n):\n",
    "    url_list = [url]\n",
    "    for i in range(2, n):\n",
    "        url_list.append(str(url)+'page/%s/' % i)\n",
    "    return url_list"
   ]
  },
  {
   "cell_type": "code",
   "execution_count": 151,
   "metadata": {
    "collapsed": true
   },
   "outputs": [],
   "source": [
    "def write_to_md(content, url, d):\n",
    "    content_format= u'''{header}\n",
    "---\n",
    "    \n",
    "> Categories: {categories}  \n",
    "> Time: {time}  \n",
    "> Original url: <{url}>\n",
    "    \n",
    "{content}\n",
    "    '''.format(header=content[0], categories=content[2], time=content[3], content=content[1], url=url)\n",
    "    file_name = '%s-%s.md'% (content[3], content[0])\n",
    "    if '/' in file_name:\n",
    "        file_name = ''.join(file_name.split('/'))\n",
    "    with open(u'%s/%s'% (d, file_name), 'aw') as f:\n",
    "        f.write(content_format.encode('utf-8'))\n",
    "    f.close()"
   ]
  },
  {
   "cell_type": "code",
   "execution_count": 109,
   "metadata": {
    "collapsed": false
   },
   "outputs": [],
   "source": [
    "urls_page = createUrls(cate_url, 3)"
   ]
  },
  {
   "cell_type": "code",
   "execution_count": 110,
   "metadata": {
    "collapsed": false
   },
   "outputs": [],
   "source": [
    "urls_blog = []\n",
    "content = None\n",
    "for url in urls_page:\n",
    "    urls_blog += getBlogUrls(url)"
   ]
  },
  {
   "cell_type": "code",
   "execution_count": 111,
   "metadata": {
    "collapsed": false
   },
   "outputs": [
    {
     "data": {
      "text/plain": [
       "27"
      ]
     },
     "execution_count": 111,
     "metadata": {},
     "output_type": "execute_result"
    }
   ],
   "source": [
    "len(urls_blog)"
   ]
  },
  {
   "cell_type": "code",
   "execution_count": 116,
   "metadata": {
    "collapsed": false
   },
   "outputs": [
    {
     "name": "stdout",
     "output_type": "stream",
     "text": [
      "1\n",
      "Done!...\n",
      "2\n",
      "Done!...\n",
      "3\n",
      "Done!...\n",
      "4\n",
      "Done!...\n",
      "5\n",
      "Done!...\n",
      "6\n",
      "Done!...\n",
      "7\n",
      "Done!...\n",
      "8\n",
      "Done!...\n",
      "9\n",
      "Done!...\n",
      "10\n",
      "Done!...\n",
      "11\n",
      "Done!...\n",
      "12\n",
      "Done!...\n",
      "13\n",
      "Done!...\n",
      "14\n",
      "Done!...\n",
      "15\n",
      "Done!...\n",
      "16\n",
      "Done!...\n",
      "17\n",
      "Done!...\n",
      "18\n",
      "Done!...\n",
      "19\n",
      "Done!...\n",
      "20\n",
      "Done!...\n",
      "21\n",
      "Done!...\n",
      "22\n",
      "Done!...\n",
      "23\n",
      "Done!...\n",
      "24\n",
      "Done!...\n",
      "25\n",
      "Done!...\n",
      "26\n",
      "Done!...\n",
      "27\n",
      "Done!...\n"
     ]
    }
   ],
   "source": [
    "i = 1\n",
    "file_name_list = []\n",
    "for url in urls_blog:\n",
    "    print i\n",
    "    content = getContent(url)\n",
    "    file_name_list.append('%s-%s'% (content[3], content[0]))\n",
    "    write_to_md(content, url)\n",
    "    i += 1"
   ]
  },
  {
   "cell_type": "code",
   "execution_count": 129,
   "metadata": {
    "collapsed": true
   },
   "outputs": [],
   "source": [
    "def create_index_page(file_name_list, cate_name, d):\n",
    "    with open('%s/%s.md' % (d, cate_name), 'aw') as f:\n",
    "        for file_name in file_name_list:\n",
    "            f.write('\\n- [%s](%s.md)'% (file_name.encode('utf-8'), file_name.encode('utf-8')))\n",
    "    print \"Create successfully ...!\"\n",
    "    f.close()"
   ]
  },
  {
   "cell_type": "code",
   "execution_count": 118,
   "metadata": {
    "collapsed": false
   },
   "outputs": [
    {
     "name": "stdout",
     "output_type": "stream",
     "text": [
      "Create successfully ...!\n"
     ]
    }
   ],
   "source": [
    "create_index_page(file_name_list, content[2])"
   ]
  },
  {
   "cell_type": "code",
   "execution_count": 139,
   "metadata": {
    "collapsed": true
   },
   "outputs": [],
   "source": [
    "def main(cate_url, cate_name, n=2):\n",
    "    d = u'/Users/xpgeng/Memect/Baojie/%s' % cate_name\n",
    "    os.makedirs(d)\n",
    "    urls_page = createUrls(cate_url, n)\n",
    "    urls_blog = []\n",
    "    content = None\n",
    "    for url in urls_page:\n",
    "        urls_blog += getBlogUrls(url)\n",
    "    print \"The number of blogs: %s\" %len(urls_blog)\n",
    "    i = 1\n",
    "    file_name_list = []\n",
    "    for url in urls_blog:\n",
    "        content = getContent(url)\n",
    "        file_name_list.append('%s-%s'% (content[3], content[0]))\n",
    "        write_to_md(content, url, d)\n",
    "        i += 1\n",
    "    print \"Write to Markdown successfully...\"\n",
    "    create_index_page(file_name_list, cate_name, d)"
   ]
  },
  {
   "cell_type": "code",
   "execution_count": 132,
   "metadata": {
    "collapsed": false
   },
   "outputs": [
    {
     "name": "stdout",
     "output_type": "stream",
     "text": [
      "The number of blogs: 27\n",
      "Write to Markdown successfully...\n",
      "Create successfully ...!\n"
     ]
    }
   ],
   "source": [
    "main(cate_url, u'工程创业', 3)"
   ]
  },
  {
   "cell_type": "code",
   "execution_count": 133,
   "metadata": {
    "collapsed": true
   },
   "outputs": [],
   "source": [
    "cate_url = r'http://baojie.org/blog/category/%e7%94%9f%e6%b4%bb/%e9%9a%8f%e6%84%9f/'"
   ]
  },
  {
   "cell_type": "code",
   "execution_count": 134,
   "metadata": {
    "collapsed": false
   },
   "outputs": [
    {
     "name": "stdout",
     "output_type": "stream",
     "text": [
      "The number of blogs: 94\n",
      "Write to Markdown successfully...\n",
      "Create successfully ...!\n"
     ]
    }
   ],
   "source": [
    "main(cate_url, u'随感', 6)"
   ]
  },
  {
   "cell_type": "code",
   "execution_count": 135,
   "metadata": {
    "collapsed": true
   },
   "outputs": [],
   "source": [
    "cate_url = u'http://baojie.org/blog/category/%e6%96%b9%e6%b3%95%e8%ae%ba/'"
   ]
  },
  {
   "cell_type": "code",
   "execution_count": 137,
   "metadata": {
    "collapsed": false
   },
   "outputs": [
    {
     "name": "stdout",
     "output_type": "stream",
     "text": [
      "The number of blogs: 6\n",
      "Write to Markdown successfully...\n",
      "Create successfully ...!\n"
     ]
    }
   ],
   "source": [
    "main(cate_url, u'方法论', 2)"
   ]
  },
  {
   "cell_type": "code",
   "execution_count": 153,
   "metadata": {
    "collapsed": true
   },
   "outputs": [],
   "source": [
    "cate_url = u'http://baojie.org/blog/category/%e6%8d%a3%e6%b5%86%e7%b3%8a/%e4%bf%a1%e6%81%af%e8%ae%ba/'"
   ]
  },
  {
   "cell_type": "code",
   "execution_count": 154,
   "metadata": {
    "collapsed": false
   },
   "outputs": [
    {
     "name": "stdout",
     "output_type": "stream",
     "text": [
      "The number of blogs: 18\n",
      "Write to Markdown successfully...\n",
      "Create successfully ...!\n"
     ]
    }
   ],
   "source": [
    "main(cate_url, u'信息论')"
   ]
  },
  {
   "cell_type": "code",
   "execution_count": null,
   "metadata": {
    "collapsed": true
   },
   "outputs": [],
   "source": []
  }
 ],
 "metadata": {
  "kernelspec": {
   "display_name": "Python 2",
   "language": "python",
   "name": "python2"
  },
  "language_info": {
   "codemirror_mode": {
    "name": "ipython",
    "version": 2
   },
   "file_extension": ".py",
   "mimetype": "text/x-python",
   "name": "python",
   "nbconvert_exporter": "python",
   "pygments_lexer": "ipython2",
   "version": "2.7.11"
  }
 },
 "nbformat": 4,
 "nbformat_minor": 0
}
