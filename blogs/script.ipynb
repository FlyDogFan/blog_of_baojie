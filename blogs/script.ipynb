{
 "cells": [
  {
   "cell_type": "markdown",
   "metadata": {
    "collapsed": false
   },
   "source": [
    "# 整理语义噪声\n",
    "\n",
    "- 目前只是爬去标签为\"语义网\"的所有博客\n",
    "\n",
    "## 爬取内容\n",
    "\n",
    "- 标题\n",
    "- 时间\n",
    "- 分类\n",
    "- 正文\n",
    "\n",
    "## 思路\n",
    "\n",
    "- 提取每一篇博客的链接\n",
    "- 根据链接提取相应内容\n",
    "\n",
    "\n",
    "## References\n",
    "- [Beautiful Soup4](https://www.crummy.com/software/BeautifulSoup/bs4/doc/)\n",
    "\n",
    "## 意外\n",
    "- 中文版的BeautifulSoup, 兄弟节点, 文档有错误."
   ]
  },
  {
   "cell_type": "code",
   "execution_count": 1,
   "metadata": {
    "collapsed": true
   },
   "outputs": [],
   "source": [
    "# -*- coding: utf-8 -*-"
   ]
  },
  {
   "cell_type": "code",
   "execution_count": 2,
   "metadata": {
    "collapsed": true
   },
   "outputs": [],
   "source": [
    "import urllib2\n",
    "import requests\n",
    "from bs4 import BeautifulSoup"
   ]
  },
  {
   "cell_type": "code",
   "execution_count": 3,
   "metadata": {
    "collapsed": false
   },
   "outputs": [],
   "source": [
    "def getBlogUrls(url):\n",
    "    r = requests.get(url)\n",
    "    html_doc = r.text\n",
    "    soup = BeautifulSoup(html_doc, 'html.parser')\n",
    "    html_body = str(soup.body)\n",
    "    soup_body = BeautifulSoup(html_body, 'html.parser')\n",
    "    div_main = soup_body.find('div', id=\"main\")\n",
    "    header_list = [header for header in div_main.find_all('h1')]\n",
    "    link_list = [link.get('href') for header in header_list for link in header.find_all('a')]\n",
    "    return link_list"
   ]
  },
  {
   "cell_type": "code",
   "execution_count": 4,
   "metadata": {
    "collapsed": true
   },
   "outputs": [],
   "source": [
    "def getCategories(footer):\n",
    "    cate_list = []\n",
    "    for a in footer.find_all(attrs={'rel': 'tag'}):\n",
    "        cate_list.append(a.text)\n",
    "    categories = ', '.join(cate_list)\n",
    "    return categories"
   ]
  },
  {
   "cell_type": "code",
   "execution_count": 5,
   "metadata": {
    "collapsed": true
   },
   "outputs": [],
   "source": [
    "def getContent(url):\n",
    "    r = requests.get(url)\n",
    "    html_doc = r.text\n",
    "    soup = BeautifulSoup(html_doc, 'html.parser')\n",
    "    html_body = str(soup.body)\n",
    "    soup_body = BeautifulSoup(html_body, 'html.parser')\n",
    "    div_main = soup_body.find('div', id=\"main\")\n",
    "    header = div_main.article.header\n",
    "    time = header.time.text\n",
    "    content = div_main.article.find(attrs={'class': 'entry-content post_content'})\n",
    "    for s in content('script'):\n",
    "        s.extract()\n",
    "    footer = div_main.article.footer\n",
    "    categories = getCategories(footer)\n",
    "    return header.h1.text, content.text, categories, time"
   ]
  },
  {
   "cell_type": "code",
   "execution_count": 6,
   "metadata": {
    "collapsed": true
   },
   "outputs": [],
   "source": [
    "def createUrls(url):\n",
    "    url_list = []\n",
    "    for i in range(2, 11):\n",
    "        url_list.append(str(url)+'/page/%s/' % i)\n",
    "    return url_list"
   ]
  },
  {
   "cell_type": "code",
   "execution_count": 7,
   "metadata": {
    "collapsed": true
   },
   "outputs": [],
   "source": [
    "def write_to_md(content):\n",
    "    content_format= u'''{header}\n",
    "---\n",
    "    \n",
    "> Categories: {categories}  \n",
    "> Time: {time}\n",
    "    \n",
    "{content}\n",
    "    '''.format(header=content[0], categories=content[2], time=content[3], content=content[1])\n",
    "    file_name = '%s-%s.md'% (content[3], content[0])\n",
    "    with open(file_name, 'aw') as f:\n",
    "        f.write(content_format.encode('utf-8'))\n",
    "    print \"Done!...\"\n",
    "    f.close()"
   ]
  },
  {
   "cell_type": "code",
   "execution_count": 19,
   "metadata": {
    "collapsed": true
   },
   "outputs": [],
   "source": [
    "def create_summary(file_name_list):\n",
    "    with open('/Users/xpgeng/Gitbook/blog_of_baojie/SUMMARY.md', 'aw') as f:\n",
    "        for file_name in file_name_list:\n",
    "            f.write('\\n- [%s](blogs/%s.md)'% (file_name.encode('utf-8'), file_name.encode('utf-8')))\n",
    "    print \"Create SUMMARY.md ...!\"\n",
    "    f.close()\n",
    "    "
   ]
  },
  {
   "cell_type": "code",
   "execution_count": 8,
   "metadata": {
    "collapsed": false
   },
   "outputs": [],
   "source": [
    "urls_page = ['http://baojie.org/blog/category/%e6%8d%a3%e6%b5%86%e7%b3%8a/%e8%af%ad%e4%b9%89%e7%bd%91']\n",
    "urls_page = urls_page + createUrls('http://baojie.org/blog/category/%e6%8d%a3%e6%b5%86%e7%b3%8a/%e8%af%ad%e4%b9%89%e7%bd%91')"
   ]
  },
  {
   "cell_type": "code",
   "execution_count": 9,
   "metadata": {
    "collapsed": false
   },
   "outputs": [
    {
     "data": {
      "text/plain": [
       "['http://baojie.org/blog/category/%e6%8d%a3%e6%b5%86%e7%b3%8a/%e8%af%ad%e4%b9%89%e7%bd%91',\n",
       " 'http://baojie.org/blog/category/%e6%8d%a3%e6%b5%86%e7%b3%8a/%e8%af%ad%e4%b9%89%e7%bd%91/page/2/',\n",
       " 'http://baojie.org/blog/category/%e6%8d%a3%e6%b5%86%e7%b3%8a/%e8%af%ad%e4%b9%89%e7%bd%91/page/3/',\n",
       " 'http://baojie.org/blog/category/%e6%8d%a3%e6%b5%86%e7%b3%8a/%e8%af%ad%e4%b9%89%e7%bd%91/page/4/',\n",
       " 'http://baojie.org/blog/category/%e6%8d%a3%e6%b5%86%e7%b3%8a/%e8%af%ad%e4%b9%89%e7%bd%91/page/5/',\n",
       " 'http://baojie.org/blog/category/%e6%8d%a3%e6%b5%86%e7%b3%8a/%e8%af%ad%e4%b9%89%e7%bd%91/page/6/',\n",
       " 'http://baojie.org/blog/category/%e6%8d%a3%e6%b5%86%e7%b3%8a/%e8%af%ad%e4%b9%89%e7%bd%91/page/7/',\n",
       " 'http://baojie.org/blog/category/%e6%8d%a3%e6%b5%86%e7%b3%8a/%e8%af%ad%e4%b9%89%e7%bd%91/page/8/',\n",
       " 'http://baojie.org/blog/category/%e6%8d%a3%e6%b5%86%e7%b3%8a/%e8%af%ad%e4%b9%89%e7%bd%91/page/9/',\n",
       " 'http://baojie.org/blog/category/%e6%8d%a3%e6%b5%86%e7%b3%8a/%e8%af%ad%e4%b9%89%e7%bd%91/page/10/']"
      ]
     },
     "execution_count": 9,
     "metadata": {},
     "output_type": "execute_result"
    }
   ],
   "source": [
    "urls_page"
   ]
  },
  {
   "cell_type": "code",
   "execution_count": 10,
   "metadata": {
    "collapsed": false
   },
   "outputs": [],
   "source": [
    "urls_blog = []\n",
    "content = None\n",
    "for url in urls_page:\n",
    "    urls_blog += getBlogUrls(url)"
   ]
  },
  {
   "cell_type": "code",
   "execution_count": 11,
   "metadata": {
    "collapsed": false
   },
   "outputs": [
    {
     "data": {
      "text/plain": [
       "189"
      ]
     },
     "execution_count": 11,
     "metadata": {},
     "output_type": "execute_result"
    }
   ],
   "source": [
    "len(urls_blog)"
   ]
  },
  {
   "cell_type": "code",
   "execution_count": 13,
   "metadata": {
    "collapsed": false
   },
   "outputs": [
    {
     "name": "stdout",
     "output_type": "stream",
     "text": [
      "1\n",
      "Done!...\n",
      "2\n",
      "Done!...\n",
      "3\n",
      "Done!...\n",
      "4\n",
      "Done!...\n",
      "5\n",
      "Done!...\n",
      "6\n",
      "Done!...\n",
      "7\n",
      "Done!...\n",
      "8\n",
      "Done!...\n",
      "9\n",
      "Done!...\n",
      "10\n",
      "Done!...\n",
      "11\n",
      "Done!...\n",
      "12\n",
      "Done!...\n",
      "13\n",
      "Done!...\n",
      "14\n",
      "Done!...\n",
      "15\n",
      "Done!...\n",
      "16\n",
      "Done!...\n",
      "17\n",
      "Done!...\n",
      "18\n",
      "Done!...\n",
      "19\n",
      "Done!...\n",
      "20\n",
      "Done!...\n",
      "21\n",
      "Done!...\n",
      "22\n",
      "Done!...\n",
      "23\n",
      "Done!...\n",
      "24\n",
      "Done!...\n",
      "25\n",
      "Done!...\n",
      "26\n",
      "Done!...\n",
      "27\n",
      "Done!...\n",
      "28\n",
      "Done!...\n",
      "29\n",
      "Done!...\n",
      "30\n",
      "Done!...\n",
      "31\n",
      "Done!...\n",
      "32\n",
      "Done!...\n",
      "33\n",
      "Done!...\n",
      "34\n",
      "Done!...\n",
      "35\n",
      "Done!...\n",
      "36\n",
      "Done!...\n",
      "37\n",
      "Done!...\n",
      "38\n",
      "Done!...\n",
      "39\n",
      "Done!...\n",
      "40\n",
      "Done!...\n",
      "41\n",
      "Done!...\n",
      "42\n",
      "Done!...\n",
      "43\n",
      "Done!...\n",
      "44\n",
      "Done!...\n",
      "45\n",
      "Done!...\n",
      "46\n",
      "Done!...\n",
      "47\n",
      "Done!...\n",
      "48\n",
      "Done!...\n",
      "49\n",
      "Done!...\n",
      "50\n",
      "Done!...\n",
      "51\n",
      "Done!...\n",
      "52\n",
      "Done!...\n",
      "53\n",
      "Done!...\n",
      "54\n",
      "Done!...\n",
      "55\n",
      "Done!...\n",
      "56\n",
      "Done!...\n",
      "57\n",
      "Done!...\n",
      "58\n",
      "Done!...\n",
      "59\n",
      "Done!...\n",
      "60\n",
      "Done!...\n",
      "61\n",
      "Done!...\n",
      "62\n",
      "Done!...\n",
      "63\n",
      "Done!...\n",
      "64\n",
      "Done!...\n",
      "65\n",
      "Done!...\n",
      "66\n",
      "Done!...\n",
      "67\n",
      "Done!...\n",
      "68\n",
      "Done!...\n",
      "69\n",
      "Done!...\n",
      "70\n",
      "Done!...\n",
      "71\n",
      "Done!...\n",
      "72\n",
      "Done!...\n",
      "73\n",
      "Done!...\n",
      "74\n",
      "Done!...\n",
      "75\n",
      "Done!...\n",
      "76\n",
      "Done!...\n",
      "77\n",
      "Done!...\n",
      "78\n",
      "Done!...\n",
      "79\n",
      "Done!...\n",
      "80\n",
      "Done!...\n",
      "81\n",
      "Done!...\n",
      "82\n",
      "Done!...\n",
      "83\n",
      "Done!...\n",
      "84\n",
      "Done!...\n",
      "85\n",
      "Done!...\n",
      "86\n",
      "Done!...\n",
      "87\n",
      "Done!...\n",
      "88\n",
      "Done!...\n",
      "89\n",
      "Done!...\n",
      "90\n",
      "Done!...\n",
      "91\n",
      "Done!...\n",
      "92\n",
      "Done!...\n",
      "93\n",
      "Done!...\n",
      "94\n",
      "Done!...\n",
      "95\n",
      "Done!...\n",
      "96\n",
      "Done!...\n",
      "97\n",
      "Done!...\n",
      "98\n",
      "Done!...\n",
      "99\n",
      "Done!...\n",
      "100\n",
      "Done!...\n",
      "101\n",
      "Done!...\n",
      "102\n",
      "Done!...\n",
      "103\n",
      "Done!...\n",
      "104\n",
      "Done!...\n",
      "105\n",
      "Done!...\n",
      "106\n",
      "Done!...\n",
      "107\n",
      "Done!...\n",
      "108\n",
      "Done!...\n",
      "109\n",
      "Done!...\n",
      "110\n",
      "Done!...\n",
      "111\n",
      "Done!...\n",
      "112\n",
      "Done!...\n",
      "113\n",
      "Done!...\n",
      "114\n",
      "Done!...\n",
      "115\n",
      "Done!...\n",
      "116\n",
      "Done!...\n",
      "117\n",
      "Done!...\n",
      "118\n",
      "Done!...\n",
      "119\n",
      "Done!...\n",
      "120\n",
      "Done!...\n",
      "121\n",
      "Done!...\n",
      "122\n",
      "Done!...\n",
      "123\n",
      "Done!...\n",
      "124\n",
      "Done!...\n",
      "125\n",
      "Done!...\n",
      "126\n",
      "Done!...\n",
      "127\n",
      "Done!...\n",
      "128\n",
      "Done!...\n",
      "129\n",
      "Done!...\n",
      "130\n",
      "Done!...\n",
      "131\n",
      "Done!...\n",
      "132\n",
      "Done!...\n",
      "133\n",
      "Done!...\n",
      "134\n",
      "Done!...\n",
      "135\n",
      "Done!...\n",
      "136\n",
      "Done!...\n",
      "137\n",
      "Done!...\n",
      "138\n",
      "Done!...\n",
      "139\n",
      "Done!...\n",
      "140\n",
      "Done!...\n",
      "141\n",
      "Done!...\n",
      "142\n",
      "Done!...\n",
      "143\n",
      "Done!...\n",
      "144\n",
      "Done!...\n",
      "145\n",
      "Done!...\n",
      "146\n",
      "Done!...\n",
      "147\n",
      "Done!...\n",
      "148\n",
      "Done!...\n",
      "149\n",
      "Done!...\n",
      "150\n",
      "Done!...\n",
      "151\n",
      "Done!...\n",
      "152\n",
      "Done!...\n",
      "153\n",
      "Done!...\n",
      "154\n",
      "Done!...\n",
      "155\n",
      "Done!...\n",
      "156\n",
      "Done!...\n",
      "157\n",
      "Done!...\n",
      "158\n",
      "Done!...\n",
      "159\n",
      "Done!...\n",
      "160\n",
      "Done!...\n",
      "161\n",
      "Done!...\n",
      "162\n",
      "Done!...\n",
      "163\n",
      "Done!...\n",
      "164\n",
      "Done!...\n",
      "165\n",
      "Done!...\n",
      "166\n",
      "Done!...\n",
      "167\n",
      "Done!...\n",
      "168\n",
      "Done!...\n",
      "169\n",
      "Done!...\n",
      "170\n",
      "Done!...\n",
      "171\n",
      "Done!...\n",
      "172\n",
      "Done!...\n",
      "173\n",
      "Done!...\n",
      "174\n",
      "Done!...\n",
      "175\n",
      "Done!...\n",
      "176\n",
      "Done!...\n",
      "177\n",
      "Done!...\n",
      "178\n",
      "Done!...\n",
      "179\n",
      "Done!...\n",
      "180\n",
      "Done!...\n",
      "181\n",
      "Done!...\n",
      "182\n",
      "Done!...\n",
      "183\n",
      "Done!...\n",
      "184\n",
      "Done!...\n",
      "185\n",
      "Done!...\n",
      "186\n",
      "Done!...\n",
      "187\n",
      "Done!...\n",
      "188\n",
      "Done!...\n",
      "189\n",
      "Done!...\n"
     ]
    }
   ],
   "source": [
    "i = 1\n",
    "file_name_list = []\n",
    "for url in urls_blog:\n",
    "    print i\n",
    "    content = getContent(url)\n",
    "    file_name_list.append('%s-%s'% (content[3], content[0]))\n",
    "    write_to_md(content)\n",
    "    i += 1"
   ]
  },
  {
   "cell_type": "code",
   "execution_count": 14,
   "metadata": {
    "collapsed": false
   },
   "outputs": [
    {
     "data": {
      "text/plain": [
       "189"
      ]
     },
     "execution_count": 14,
     "metadata": {},
     "output_type": "execute_result"
    }
   ],
   "source": [
    "len(file_name_list)"
   ]
  },
  {
   "cell_type": "code",
   "execution_count": 20,
   "metadata": {
    "collapsed": false
   },
   "outputs": [
    {
     "name": "stdout",
     "output_type": "stream",
     "text": [
      "Create SUMMARY.md ...!\n"
     ]
    }
   ],
   "source": [
    "create_summary(file_name_list)"
   ]
  },
  {
   "cell_type": "code",
   "execution_count": null,
   "metadata": {
    "collapsed": true
   },
   "outputs": [],
   "source": []
  }
 ],
 "metadata": {
  "kernelspec": {
   "display_name": "Python 2",
   "language": "python",
   "name": "python2"
  },
  "language_info": {
   "codemirror_mode": {
    "name": "ipython",
    "version": 2
   },
   "file_extension": ".py",
   "mimetype": "text/x-python",
   "name": "python",
   "nbconvert_exporter": "python",
   "pygments_lexer": "ipython2",
   "version": "2.7.11"
  }
 },
 "nbformat": 4,
 "nbformat_minor": 0
}
